{
  "nbformat": 4,
  "nbformat_minor": 0,
  "metadata": {
    "colab": {
      "private_outputs": true,
      "provenance": [],
      "collapsed_sections": [
        "vncDsAP0Gaoa",
        "FJNUwmbgGyua",
        "w6K7xa23Elo4",
        "yQaldy8SH6Dl",
        "PH-0ReGfmX4f",
        "HhfV-JJviCcP",
        "Y3lxredqlCYt",
        "3RnN4peoiCZX",
        "x71ZqKXriCWQ",
        "7hBIi_osiCS2",
        "JlHwYmJAmNHm",
        "35m5QtbWiB9F",
        "PoPl-ycgm1ru",
        "H0kj-8xxnORC",
        "nA9Y7ga8ng1Z",
        "PBTbrJXOngz2",
        "u3PMJOP6ngxN",
        "dauF4eBmngu3",
        "bKJF3rekwFvQ",
        "MSa1f5Uengrz",
        "0wOQAZs5pc--",
        "KSlN3yHqYklG",
        "EwiHc85sqtyK",
        "EM7whBJCYoAo",
        "4Of9eVA-YrdM",
        "bamQiAODYuh1",
        "BZR9WyysphqO",
        "XVAB2WSV_K6d",
        "ebNkfJIXA3BX",
        "OH-pJp9IphqM",
        "hBwiCKPBYjnT",
        "PIIx-8_IphqN",
        "YJ55k-q6phqO",
        "U2RJ9gkRphqQ"
      ],
      "include_colab_link": true
    },
    "kernelspec": {
      "name": "python3",
      "display_name": "Python 3"
    },
    "language_info": {
      "name": "python"
    }
  },
  "cells": [
    {
      "cell_type": "markdown",
      "metadata": {
        "id": "view-in-github",
        "colab_type": "text"
      },
      "source": [
        "<a href=\"https://colab.research.google.com/github/ishadvay3928/Video-Game-Sales-and-Engagement-Analysis-Project/blob/main/Video_Game_Sales_and_Engagement_Analysis.ipynb\" target=\"_parent\"><img src=\"https://colab.research.google.com/assets/colab-badge.svg\" alt=\"Open In Colab\"/></a>"
      ]
    },
    {
      "cell_type": "markdown",
      "source": [
        "# **Project Name**    - **Video Game Sales and Engagement Analysis**\n",
        "\n"
      ],
      "metadata": {
        "id": "vncDsAP0Gaoa"
      }
    },
    {
      "cell_type": "markdown",
      "source": [
        "# **GitHub Link -**"
      ],
      "metadata": {
        "id": "w6K7xa23Elo4"
      }
    },
    {
      "cell_type": "markdown",
      "source": [
        "https://github.com/ishadvay3928/Local-Food-Wastage-Management-System-Project/blob/main/Local_Food_Wastage_Management_System_Analysis.ipynb"
      ],
      "metadata": {
        "id": "h1o69JH3Eqqn"
      }
    },
    {
      "cell_type": "markdown",
      "source": [
        "# ***Let's Begin !***"
      ],
      "metadata": {
        "id": "O_i_v8NEhb9l"
      }
    },
    {
      "cell_type": "markdown",
      "source": [
        "## ***1. Know Your Data***"
      ],
      "metadata": {
        "id": "HhfV-JJviCcP"
      }
    },
    {
      "cell_type": "markdown",
      "source": [
        "### Import Libraries"
      ],
      "metadata": {
        "id": "Y3lxredqlCYt"
      }
    },
    {
      "cell_type": "code",
      "source": [
        "# Import Libraries\n",
        "import numpy as np\n",
        "import pandas as pd\n",
        "import matplotlib.pyplot as plt\n",
        "%matplotlib inline\n",
        "import seaborn as sns"
      ],
      "metadata": {
        "id": "M8Vqi-pPk-HR"
      },
      "execution_count": null,
      "outputs": []
    },
    {
      "cell_type": "markdown",
      "source": [
        "### Dataset Loading"
      ],
      "metadata": {
        "id": "3RnN4peoiCZX"
      }
    },
    {
      "cell_type": "code",
      "execution_count": null,
      "metadata": {
        "id": "ovK2BRJojy8z"
      },
      "outputs": [],
      "source": [
        "# Load all the  Datasets\n",
        "\n",
        "df_providers = pd.read_csv(\"/content/providers_data.csv\")\n",
        "df_receivers = pd.read_csv(\"/content/receivers_data.csv\")\n",
        "df_food_listings = pd.read_csv(\"/content/food_listings_data.csv\")\n",
        "df_claims = pd.read_csv(\"/content/claims_data.csv\")"
      ]
    },
    {
      "cell_type": "markdown",
      "source": [
        "### Dataset First View"
      ],
      "metadata": {
        "id": "x71ZqKXriCWQ"
      }
    },
    {
      "cell_type": "code",
      "source": [
        "# First Look\n",
        "df_providers.head()"
      ],
      "metadata": {
        "id": "LWNFOSvLl09H",
        "collapsed": true
      },
      "execution_count": null,
      "outputs": []
    },
    {
      "cell_type": "code",
      "source": [
        "df_receivers.head()"
      ],
      "metadata": {
        "id": "oCAqHOxq8JIU"
      },
      "execution_count": null,
      "outputs": []
    },
    {
      "cell_type": "code",
      "source": [
        "df_food_listings.head()"
      ],
      "metadata": {
        "id": "jgjxUvoAA9LB"
      },
      "execution_count": null,
      "outputs": []
    },
    {
      "cell_type": "code",
      "source": [
        "df_claims.head()"
      ],
      "metadata": {
        "id": "VGlp8JYwBBcv"
      },
      "execution_count": null,
      "outputs": []
    },
    {
      "cell_type": "markdown",
      "source": [
        "### Dataset Rows & Columns count"
      ],
      "metadata": {
        "id": "7hBIi_osiCS2"
      }
    },
    {
      "cell_type": "code",
      "source": [
        "# Dataset Rows & Columns count\n",
        "df_providers.shape"
      ],
      "metadata": {
        "id": "Kllu7SJgmLij"
      },
      "execution_count": null,
      "outputs": []
    },
    {
      "cell_type": "code",
      "source": [
        "df_receivers.shape"
      ],
      "metadata": {
        "id": "Pmxuc-MN9IyT"
      },
      "execution_count": null,
      "outputs": []
    },
    {
      "cell_type": "code",
      "source": [
        "df_food_listings.shape"
      ],
      "metadata": {
        "id": "vASv7SBeBXyA"
      },
      "execution_count": null,
      "outputs": []
    },
    {
      "cell_type": "code",
      "source": [
        "df_claims.shape"
      ],
      "metadata": {
        "id": "vy5jDx7MBcwf"
      },
      "execution_count": null,
      "outputs": []
    },
    {
      "cell_type": "markdown",
      "source": [
        "### Dataset Information"
      ],
      "metadata": {
        "id": "JlHwYmJAmNHm"
      }
    },
    {
      "cell_type": "code",
      "source": [
        "# Dataset Info\n",
        "df_providers.info()"
      ],
      "metadata": {
        "id": "e9hRXRi6meOf"
      },
      "execution_count": null,
      "outputs": []
    },
    {
      "cell_type": "code",
      "source": [
        "df_receivers.info()"
      ],
      "metadata": {
        "id": "IVn0UClz9S3l"
      },
      "execution_count": null,
      "outputs": []
    },
    {
      "cell_type": "code",
      "source": [
        "df_food_listings.info()"
      ],
      "metadata": {
        "id": "N8eMX-q7B1WD"
      },
      "execution_count": null,
      "outputs": []
    },
    {
      "cell_type": "code",
      "source": [
        "df_claims.info()"
      ],
      "metadata": {
        "id": "_wm7r1WEB740"
      },
      "execution_count": null,
      "outputs": []
    },
    {
      "cell_type": "markdown",
      "source": [
        "#### Duplicate Values"
      ],
      "metadata": {
        "id": "35m5QtbWiB9F"
      }
    },
    {
      "cell_type": "code",
      "source": [
        "# Duplicate Value Count\n",
        "df_providers.duplicated().sum()"
      ],
      "metadata": {
        "id": "1sLdpKYkmox0"
      },
      "execution_count": null,
      "outputs": []
    },
    {
      "cell_type": "code",
      "source": [
        "df_receivers.duplicated().sum()"
      ],
      "metadata": {
        "id": "cQf_8mYQ9hQP"
      },
      "execution_count": null,
      "outputs": []
    },
    {
      "cell_type": "code",
      "source": [
        "df_food_listings.duplicated().sum()"
      ],
      "metadata": {
        "id": "9LKz9NYpCYqT"
      },
      "execution_count": null,
      "outputs": []
    },
    {
      "cell_type": "code",
      "source": [
        "df_claims.duplicated().sum()"
      ],
      "metadata": {
        "id": "SUQlCqU8Cei5"
      },
      "execution_count": null,
      "outputs": []
    },
    {
      "cell_type": "markdown",
      "source": [
        "#### Missing Values/Null Values"
      ],
      "metadata": {
        "id": "PoPl-ycgm1ru"
      }
    },
    {
      "cell_type": "code",
      "source": [
        "# Missing Values/Null Values Count of datasets\n",
        "df_providers.isnull().sum()"
      ],
      "metadata": {
        "id": "GgHWkxvamxVg"
      },
      "execution_count": null,
      "outputs": []
    },
    {
      "cell_type": "code",
      "source": [
        "df_receivers.isnull().sum()"
      ],
      "metadata": {
        "id": "7EAAIpB59_IS"
      },
      "execution_count": null,
      "outputs": []
    },
    {
      "cell_type": "code",
      "source": [
        "df_food_listings.isnull().sum()"
      ],
      "metadata": {
        "id": "HvWMzqNBCw1u"
      },
      "execution_count": null,
      "outputs": []
    },
    {
      "cell_type": "code",
      "source": [
        "df_claims.isnull().sum()"
      ],
      "metadata": {
        "id": "i2NwZHWTC7tY"
      },
      "execution_count": null,
      "outputs": []
    },
    {
      "cell_type": "markdown",
      "source": [
        "### What did you know about your dataset?"
      ],
      "metadata": {
        "id": "H0kj-8xxnORC"
      }
    },
    {
      "cell_type": "markdown",
      "source": [
        "**Provider dataset**\n",
        "- There are 1000 rows and 6 columns in the dataset.\n",
        "- There are no missing Values.\n",
        "\n",
        "**Receiver dataset**\n",
        "- There are 1000 rows and 6 columns in the dataset.\n",
        "- There are no missing Values.\n",
        "\n",
        "**Food Listings dataset**\n",
        "- There are 1000 rows and 9 columns in the dataset.\n",
        "- There are no missing Values.\n",
        "\n",
        "**Claims dataset**\n",
        "- There are 1000 rows and 5 columns in the dataset.\n",
        "- There are no missing Values."
      ],
      "metadata": {
        "id": "gfoNAAC-nUe_"
      }
    },
    {
      "cell_type": "markdown",
      "source": [
        "## ***2. Understanding Your Variables***"
      ],
      "metadata": {
        "id": "nA9Y7ga8ng1Z"
      }
    },
    {
      "cell_type": "code",
      "source": [
        "# Dataset Columns\n",
        "df_providers.columns"
      ],
      "metadata": {
        "id": "j7xfkqrt5Ag5"
      },
      "execution_count": null,
      "outputs": []
    },
    {
      "cell_type": "code",
      "source": [
        "df_receivers.columns"
      ],
      "metadata": {
        "id": "iwL24N_RBzio"
      },
      "execution_count": null,
      "outputs": []
    },
    {
      "cell_type": "code",
      "source": [
        "df_food_listings.columns"
      ],
      "metadata": {
        "id": "jm3APLQDEhAF"
      },
      "execution_count": null,
      "outputs": []
    },
    {
      "cell_type": "code",
      "source": [
        "df_claims.columns"
      ],
      "metadata": {
        "id": "SYZ-38MaEkw8"
      },
      "execution_count": null,
      "outputs": []
    },
    {
      "cell_type": "code",
      "source": [
        "#Dataset Describe\n",
        "df_providers.describe(include='all')"
      ],
      "metadata": {
        "id": "P8ys3L1qT80u"
      },
      "execution_count": null,
      "outputs": []
    },
    {
      "cell_type": "code",
      "source": [
        "df_receivers.describe(include='all')"
      ],
      "metadata": {
        "id": "OTu9ETBICEdd"
      },
      "execution_count": null,
      "outputs": []
    },
    {
      "cell_type": "code",
      "source": [
        "df_food_listings.describe(include='all')"
      ],
      "metadata": {
        "id": "V-XnsoCWE09e"
      },
      "execution_count": null,
      "outputs": []
    },
    {
      "cell_type": "code",
      "source": [
        "df_claims.describe(include='all')"
      ],
      "metadata": {
        "id": "j5vZPgJoE45S"
      },
      "execution_count": null,
      "outputs": []
    },
    {
      "cell_type": "markdown",
      "source": [
        "### Variables Description"
      ],
      "metadata": {
        "id": "PBTbrJXOngz2"
      }
    },
    {
      "cell_type": "markdown",
      "source": [
        "**1. Providers Dataset**\n",
        "\n",
        "*The providers.csv file contains details of food providers who contribute surplus food to the system.*\n",
        "* Provider_ID (Integer) – Unique identifier for each provider.\n",
        "* Name (String) – Name of the food provider (e.g., restaurants, grocery stores, supermarkets).\n",
        "* Type (String) – Category of provider (e.g., Restaurant, Grocery Store, Supermarket).\n",
        "* Address (String) – Physical address of the provider.\n",
        "* City (String) – City where the provider is located.\n",
        "* Contact (String) – Contact information (e.g., phone number).\n",
        "\n",
        "**2. Receivers Dataset**\n",
        "\n",
        "*The receivers.csv file contains details of individuals or organizations receiving food.*\n",
        "\n",
        "* Receiver_ID (Integer) – Unique identifier for each receiver.\n",
        "* Name (String) – Name of the receiver (individual or organization).\n",
        "* Type (String) – Category of receiver (e.g., NGO, Community Center, Individual).\n",
        "* City (String) – City where the receiver is located.\n",
        "* Contact (String) – Contact details (e.g., phone number).\n",
        "\n",
        "**3. Food Listings Dataset**\n",
        "\n",
        "*The food_listings.csv file stores details of available food items that can be claimed by receivers*\n",
        "\n",
        "* Food_ID (Integer) – Unique identifier for each food item.\n",
        "* Food_Name (String) – Name of the food item.\n",
        "* Quantity (Integer) – Quantity available for distribution.\n",
        "* Expiry_Date (Date) – Expiry date of the food item.\n",
        "* Provider_ID (Integer) – Reference to the provider offering the food.\n",
        "* Provider_Type (String) – Type of provider offering the food.\n",
        "* Location (String) – City where the food is available.\n",
        "* Food_Type (String) – Category of food (e.g., Vegetarian, Non-Vegetarian, Vegan).\n",
        "* Meal_Type (String) – Type of meal (e.g., Breakfast, Lunch, Dinner, Snacks).\n",
        "\n",
        "**4. Claims Dataset**\n",
        "\n",
        "*The claims.csv file tracks food claims made by receivers.*\n",
        "\n",
        "* Claim_ID (Integer) – Unique identifier for each claim.\n",
        "* Food_ID (Integer) – Reference to the food item being claimed.\n",
        "* Receiver_ID (Integer) – Reference to the receiver claiming the food.\n",
        "* Status (String) – Current status of the claim (e.g., Pending, Completed, Cancelled).\n",
        "* Timestamp (Datetime) – Date and time when the claim was made.\n"
      ],
      "metadata": {
        "id": "5W0N5i2sDAhf"
      }
    },
    {
      "cell_type": "markdown",
      "source": [
        "### Check Unique Values for each variable."
      ],
      "metadata": {
        "id": "u3PMJOP6ngxN"
      }
    },
    {
      "cell_type": "code",
      "source": [
        "# Check Unique Values for each variable of dataset.\n",
        "df_providers.nunique()"
      ],
      "metadata": {
        "id": "zms12Yq5n-jE"
      },
      "execution_count": null,
      "outputs": []
    },
    {
      "cell_type": "code",
      "source": [
        "df_receivers.nunique()"
      ],
      "metadata": {
        "id": "rs65txtTFsvK"
      },
      "execution_count": null,
      "outputs": []
    },
    {
      "cell_type": "code",
      "source": [
        "df_food_listings.nunique()"
      ],
      "metadata": {
        "id": "cJ604iLxHXTn"
      },
      "execution_count": null,
      "outputs": []
    },
    {
      "cell_type": "code",
      "source": [
        "df_claims.nunique()"
      ],
      "metadata": {
        "id": "ANBSr3D8Hfxk"
      },
      "execution_count": null,
      "outputs": []
    },
    {
      "cell_type": "markdown",
      "source": [
        "## ***3. Data Wrangling***"
      ],
      "metadata": {
        "id": "dauF4eBmngu3"
      }
    },
    {
      "cell_type": "markdown",
      "source": [
        "### Data Wrangling Code"
      ],
      "metadata": {
        "id": "bKJF3rekwFvQ"
      }
    },
    {
      "cell_type": "code",
      "source": [
        "# Clean contact numbers: keep digits, plus sign, and 'x' for extensions\n",
        "import re\n",
        "\n",
        "# Function to clean contact numbers\n",
        "def clean_contact(contact):\n",
        "    if pd.isna(contact):\n",
        "        return None\n",
        "    # Ensure it's a string before cleaning\n",
        "    contact_str = str(contact)\n",
        "    # Keep only +, digits, and 'x' (for extensions)\n",
        "    return re.sub(r\"[^0-9x\\+]\", \"\", contact_str)\n",
        "\n",
        "# Apply cleaning\n",
        "df_providers['Contact'] = df_providers['Contact'].apply(clean_contact)\n",
        "df_receivers['Contact'] = df_receivers['Contact'].apply(clean_contact)"
      ],
      "metadata": {
        "id": "fodXlxnPLx8H"
      },
      "execution_count": null,
      "outputs": []
    },
    {
      "cell_type": "code",
      "source": [
        "# CHANGE DATATYPES\n",
        "\n",
        "# Convert Expiry_Date in df_food_listings to datetime\n",
        "df_food_listings['Expiry_Date'] = pd.to_datetime(df_food_listings['Expiry_Date'], errors='coerce')\n",
        "\n",
        "# Convert Timestamp in df_claims to datetime, then extract time only\n",
        "df_claims['Timestamp'] = pd.to_datetime(df_claims['Timestamp'],errors='coerce')\n"
      ],
      "metadata": {
        "id": "NsZgdp3SKH88"
      },
      "execution_count": null,
      "outputs": []
    },
    {
      "cell_type": "code",
      "source": [
        "# Save all cleaned dataset\n",
        "df_providers.to_csv(\"providers_clean_dataset.csv\", index=False)\n",
        "df_receivers.to_csv(\"receivers_clean_dataset.csv\", index=False)\n",
        "df_food_listings.to_csv(\"food_listing_clean_dataset.csv\", index=False)\n",
        "df_claims.to_csv(\"claims_clean_dataset.csv\", index=False)"
      ],
      "metadata": {
        "id": "MG_KP5jOuvim"
      },
      "execution_count": null,
      "outputs": []
    },
    {
      "cell_type": "markdown",
      "source": [
        "### What all manipulations have you done and insights you found?"
      ],
      "metadata": {
        "id": "MSa1f5Uengrz"
      }
    },
    {
      "cell_type": "markdown",
      "source": [
        "#### **Key Manipulations:**\n",
        "\n",
        "* **Cleaned Contact Numbers:** Applied a function to retain only digits, plus signs (+), and 'x' (for extensions) in contact numbers across provider and receiver datasets to standardize contact information and remove unwanted characters.\n",
        "* **Converted Date and Time Columns:**\n",
        "\n",
        "  * Converted `Expiry_Date` in the food listings dataset to datetime format, coercing errors to NaT for invalid or malformed entries.\n",
        "  * Converted `Timestamp` in claims dataset to datetime format, coercing errors to NaT, enabling easier time-based analysis.\n",
        "* **Saved Cleaned Datasets:** Exported all cleaned datasets (`providers`, `receivers`, `food_listings`, and `claims`) to CSV files for downstream use and reproducibility.\n",
        "\n",
        "\n",
        "#### **Insights Gained:**\n",
        "\n",
        "* Cleaning contact numbers improves data consistency, making it easier to perform accurate lookups, matching, or communication without errors caused by formatting differences.\n",
        "* Converting date/time fields to proper datetime types enables robust temporal analysis such as expiry tracking, claim time trends, or time-based filtering.\n",
        "* Saving cleaned datasets ensures data integrity and provides a reliable baseline for further analysis or reporting."
      ],
      "metadata": {
        "id": "xtr1jvwazHVE"
      }
    }
  ]
}