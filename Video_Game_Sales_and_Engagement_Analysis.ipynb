{
  "nbformat": 4,
  "nbformat_minor": 0,
  "metadata": {
    "colab": {
      "private_outputs": true,
      "provenance": [],
      "collapsed_sections": [
        "vncDsAP0Gaoa",
        "FJNUwmbgGyua",
        "w6K7xa23Elo4",
        "yQaldy8SH6Dl",
        "PH-0ReGfmX4f",
        "HhfV-JJviCcP",
        "Y3lxredqlCYt",
        "3RnN4peoiCZX",
        "x71ZqKXriCWQ",
        "7hBIi_osiCS2",
        "JlHwYmJAmNHm",
        "35m5QtbWiB9F",
        "PoPl-ycgm1ru",
        "H0kj-8xxnORC",
        "nA9Y7ga8ng1Z",
        "PBTbrJXOngz2",
        "u3PMJOP6ngxN",
        "dauF4eBmngu3",
        "bKJF3rekwFvQ",
        "MSa1f5Uengrz",
        "0wOQAZs5pc--",
        "KSlN3yHqYklG",
        "EwiHc85sqtyK",
        "EM7whBJCYoAo",
        "4Of9eVA-YrdM",
        "bamQiAODYuh1",
        "BZR9WyysphqO",
        "XVAB2WSV_K6d",
        "ebNkfJIXA3BX",
        "OH-pJp9IphqM",
        "hBwiCKPBYjnT",
        "PIIx-8_IphqN",
        "YJ55k-q6phqO",
        "U2RJ9gkRphqQ"
      ],
      "include_colab_link": true
    },
    "kernelspec": {
      "name": "python3",
      "display_name": "Python 3"
    },
    "language_info": {
      "name": "python"
    }
  },
  "cells": [
    {
      "cell_type": "markdown",
      "metadata": {
        "id": "view-in-github",
        "colab_type": "text"
      },
      "source": [
        "<a href=\"https://colab.research.google.com/github/ishadvay3928/Video-Game-Sales-and-Engagement-Analysis-Project/blob/main/Video_Game_Sales_and_Engagement_Analysis.ipynb\" target=\"_parent\"><img src=\"https://colab.research.google.com/assets/colab-badge.svg\" alt=\"Open In Colab\"/></a>"
      ]
    },
    {
      "cell_type": "markdown",
      "source": [
        "# **Project Name**    - **Video Game Sales and Engagement Analysis**\n",
        "\n"
      ],
      "metadata": {
        "id": "vncDsAP0Gaoa"
      }
    },
    {
      "cell_type": "markdown",
      "source": [
        "# **GitHub Link -**"
      ],
      "metadata": {
        "id": "w6K7xa23Elo4"
      }
    },
    {
      "cell_type": "markdown",
      "source": [
        "https://github.com/ishadvay3928/Video-Game-Sales-and-Engagement-Analysis-Project/blob/main/Video_Game_Sales_and_Engagement_Analysis.ipynb"
      ],
      "metadata": {
        "id": "h1o69JH3Eqqn"
      }
    },
    {
      "cell_type": "markdown",
      "source": [
        "# ***Let's Begin !***"
      ],
      "metadata": {
        "id": "O_i_v8NEhb9l"
      }
    },
    {
      "cell_type": "markdown",
      "source": [
        "## ***1. Know Your Data***"
      ],
      "metadata": {
        "id": "HhfV-JJviCcP"
      }
    },
    {
      "cell_type": "markdown",
      "source": [
        "### Import Libraries"
      ],
      "metadata": {
        "id": "Y3lxredqlCYt"
      }
    },
    {
      "cell_type": "code",
      "source": [
        "# Import Libraries\n",
        "import numpy as np\n",
        "import pandas as pd\n",
        "import matplotlib.pyplot as plt\n",
        "%matplotlib inline\n",
        "import seaborn as sns"
      ],
      "metadata": {
        "id": "M8Vqi-pPk-HR"
      },
      "execution_count": null,
      "outputs": []
    },
    {
      "cell_type": "markdown",
      "source": [
        "### Dataset Loading"
      ],
      "metadata": {
        "id": "3RnN4peoiCZX"
      }
    },
    {
      "cell_type": "code",
      "execution_count": null,
      "metadata": {
        "id": "ovK2BRJojy8z"
      },
      "outputs": [],
      "source": [
        "# Load all the  Datasets\n",
        "\n",
        "df_games = pd.read_csv(\"/content/games.csv\")\n",
        "df_vgsales = pd.read_csv(\"/content/vgsales.csv\")"
      ]
    },
    {
      "cell_type": "markdown",
      "source": [
        "### Dataset First View"
      ],
      "metadata": {
        "id": "x71ZqKXriCWQ"
      }
    },
    {
      "cell_type": "code",
      "source": [
        "# First Look\n",
        "df_games.head()"
      ],
      "metadata": {
        "id": "LWNFOSvLl09H",
        "collapsed": true
      },
      "execution_count": null,
      "outputs": []
    },
    {
      "cell_type": "code",
      "source": [
        "df_vgsales.head()"
      ],
      "metadata": {
        "id": "oCAqHOxq8JIU"
      },
      "execution_count": null,
      "outputs": []
    },
    {
      "cell_type": "markdown",
      "source": [
        "### Dataset Rows & Columns count"
      ],
      "metadata": {
        "id": "7hBIi_osiCS2"
      }
    },
    {
      "cell_type": "code",
      "source": [
        "# Dataset Rows & Columns count\n",
        "df_games.shape"
      ],
      "metadata": {
        "id": "Kllu7SJgmLij"
      },
      "execution_count": null,
      "outputs": []
    },
    {
      "cell_type": "code",
      "source": [
        "df_vgsales.shape"
      ],
      "metadata": {
        "id": "Pmxuc-MN9IyT"
      },
      "execution_count": null,
      "outputs": []
    },
    {
      "cell_type": "markdown",
      "source": [
        "### Dataset Information"
      ],
      "metadata": {
        "id": "JlHwYmJAmNHm"
      }
    },
    {
      "cell_type": "code",
      "source": [
        "# Dataset Info\n",
        "df_games.info()"
      ],
      "metadata": {
        "id": "e9hRXRi6meOf"
      },
      "execution_count": null,
      "outputs": []
    },
    {
      "cell_type": "code",
      "source": [
        "df_vgsales.info()"
      ],
      "metadata": {
        "id": "IVn0UClz9S3l"
      },
      "execution_count": null,
      "outputs": []
    },
    {
      "cell_type": "markdown",
      "source": [
        "#### Duplicate Values"
      ],
      "metadata": {
        "id": "35m5QtbWiB9F"
      }
    },
    {
      "cell_type": "code",
      "source": [
        "# Duplicate Value Count\n",
        "df_games.duplicated().sum()"
      ],
      "metadata": {
        "id": "1sLdpKYkmox0"
      },
      "execution_count": null,
      "outputs": []
    },
    {
      "cell_type": "code",
      "source": [
        "df_vgsales.duplicated().sum()"
      ],
      "metadata": {
        "id": "CDPkCrt4waCg"
      },
      "execution_count": null,
      "outputs": []
    },
    {
      "cell_type": "markdown",
      "source": [
        "#### Missing Values/Null Values"
      ],
      "metadata": {
        "id": "PoPl-ycgm1ru"
      }
    },
    {
      "cell_type": "code",
      "source": [
        "# Missing Values/Null Values Count of datasets\n",
        "df_games.isnull().sum()"
      ],
      "metadata": {
        "id": "GgHWkxvamxVg"
      },
      "execution_count": null,
      "outputs": []
    },
    {
      "cell_type": "code",
      "source": [
        "df_vgsales.isnull().sum()"
      ],
      "metadata": {
        "id": "7EAAIpB59_IS"
      },
      "execution_count": null,
      "outputs": []
    },
    {
      "cell_type": "markdown",
      "source": [
        "### What did you know about your dataset?"
      ],
      "metadata": {
        "id": "H0kj-8xxnORC"
      }
    },
    {
      "cell_type": "markdown",
      "source": [
        "**games dataset**\n",
        "- There are 1512 rows and 14 columns in the dataset.\n",
        "- Rating have 13 missing Values followed by Team and\n",
        "Summary having only 1 missing value each.\n",
        "\n",
        "\n",
        "**vgsales dataset**\n",
        "- There are 16598 rows and 11 columns in the dataset.\n",
        "- Year have\t271 missing Values and Publisher have 58 missing values."
      ],
      "metadata": {
        "id": "gfoNAAC-nUe_"
      }
    },
    {
      "cell_type": "markdown",
      "source": [
        "## ***2. Understanding Your Variables***"
      ],
      "metadata": {
        "id": "nA9Y7ga8ng1Z"
      }
    },
    {
      "cell_type": "code",
      "source": [
        "# Dataset Columns\n",
        "df_games.columns"
      ],
      "metadata": {
        "id": "j7xfkqrt5Ag5"
      },
      "execution_count": null,
      "outputs": []
    },
    {
      "cell_type": "code",
      "source": [
        "df_vgsales.columns"
      ],
      "metadata": {
        "id": "iwL24N_RBzio"
      },
      "execution_count": null,
      "outputs": []
    },
    {
      "cell_type": "code",
      "source": [
        "#Dataset Describe\n",
        "df_games.describe(include='all')"
      ],
      "metadata": {
        "id": "P8ys3L1qT80u"
      },
      "execution_count": null,
      "outputs": []
    },
    {
      "cell_type": "code",
      "source": [
        "df_vgsales.describe(include='all')"
      ],
      "metadata": {
        "id": "OTu9ETBICEdd"
      },
      "execution_count": null,
      "outputs": []
    },
    {
      "cell_type": "markdown",
      "source": [
        "### Variables Description"
      ],
      "metadata": {
        "id": "PBTbrJXOngz2"
      }
    },
    {
      "cell_type": "markdown",
      "source": [
        "**1. games.csv (Game Engagement Data)**\n",
        "\n",
        "* **Title:** Game name.\n",
        "* **Rating:** User review score (numeric).\n",
        "* **Genres:** Game categories (can be multiple).\n",
        "* **Plays**: Number of playthroughs.\n",
        "* **Backlogs**: Number of users who plan to play it.\n",
        "* **Wishlist**: Number of users who wishlisted the game.\n",
        "* **Release Date**: Date of game release\n",
        "* **Platform**: Platform where game is available\n",
        "* **Team (Developer)**: Developer of the game\n",
        "\n",
        "\n",
        "**2. vgsales.csv (Sales Data)**\n",
        "\n",
        "* **Name**: Game name.\n",
        "* **Platform**: Console or device.\n",
        "* **Year**: Year of release.\n",
        "* **Genre**: Main category.\n",
        "* **Publisher**: Game publisher.\n",
        "* **NA_Sales**: Sales in North America\n",
        "* **EU_Sales**: Sales in Europe.\n",
        "* **JP_Sales**: Sales in Japan.\n",
        "* **Other_Sales**: Sales in the rest of the world\n",
        "* **Global_Sales**: Sales by region."
      ],
      "metadata": {
        "id": "5W0N5i2sDAhf"
      }
    },
    {
      "cell_type": "markdown",
      "source": [
        "### Check Unique Values for each variable."
      ],
      "metadata": {
        "id": "u3PMJOP6ngxN"
      }
    },
    {
      "cell_type": "code",
      "source": [
        "# Check Unique Values for each variable of dataset.\n",
        "df_games.nunique()"
      ],
      "metadata": {
        "id": "zms12Yq5n-jE"
      },
      "execution_count": null,
      "outputs": []
    },
    {
      "cell_type": "code",
      "source": [
        "df_vgsales.nunique()"
      ],
      "metadata": {
        "id": "rs65txtTFsvK"
      },
      "execution_count": null,
      "outputs": []
    },
    {
      "cell_type": "markdown",
      "source": [
        "## ***3. Data Wrangling***"
      ],
      "metadata": {
        "id": "dauF4eBmngu3"
      }
    },
    {
      "cell_type": "markdown",
      "source": [
        "### Data Wrangling Code"
      ],
      "metadata": {
        "id": "bKJF3rekwFvQ"
      }
    },
    {
      "cell_type": "code",
      "source": [
        "# --- Wrangling vgsales.csv ---\n",
        "\n",
        "# 1. Handle missing 'Year' and convert to Int64 (integer type that supports NaN)\n",
        "median_year = df_vgsales['Year'].median()\n",
        "df_vgsales['Year'] = df_vgsales['Year'].fillna(median_year).astype('Int64')\n",
        "\n",
        "# 2. Handle missing 'Publisher'\n",
        "df_vgsales['Publisher'].fillna('Unknown', inplace=True)"
      ],
      "metadata": {
        "id": "Tq5VI0T141jo"
      },
      "execution_count": null,
      "outputs": []
    },
    {
      "cell_type": "code",
      "source": [
        "# Save the wrangled vgsales data\n",
        "df_vgsales.to_csv('vgsales_clean.csv', index=False)"
      ],
      "metadata": {
        "id": "y_3g8wTW5_mS"
      },
      "execution_count": null,
      "outputs": []
    },
    {
      "cell_type": "code",
      "source": [
        "# --- Wrangling games.csv ---\n",
        "\n",
        "# 1. Drop the unnecessary index column\n",
        "df_games.drop(columns=['Unnamed: 0'], inplace=True)"
      ],
      "metadata": {
        "id": "YFvl4JGd5AXK"
      },
      "execution_count": null,
      "outputs": []
    },
    {
      "cell_type": "code",
      "source": [
        "# 2. Convert 'Release Date' to datetime\n",
        "df_games['Release Date'] = pd.to_datetime(df_games['Release Date'], format='%b %d, %Y', errors='coerce')"
      ],
      "metadata": {
        "id": "YYTzIYyE6HWf"
      },
      "execution_count": null,
      "outputs": []
    },
    {
      "cell_type": "code",
      "source": [
        "# 3. Parse string lists for 'Team', 'Genres', and 'Reviews'\n",
        "import ast\n",
        "list_cols = ['Team', 'Genres', 'Reviews']\n",
        "for col in list_cols:\n",
        "    # Use ast.literal_eval for safe conversion of string-list to actual list\n",
        "    df_games[col] = df_games[col].apply(lambda x: ast.literal_eval(x) if pd.notna(x) and isinstance(x, str) and x.startswith('[') and x.endswith(']') else x)"
      ],
      "metadata": {
        "id": "CW8-ziNi6OF0"
      },
      "execution_count": null,
      "outputs": []
    },
    {
      "cell_type": "code",
      "source": [
        "# 4. Function to convert K-suffixed strings (e.g., '3.9K') to numbers\n",
        "def convert_k_suffix(value):\n",
        "    if isinstance(value, str):\n",
        "        value = value.strip().replace(',', '')\n",
        "        if 'K' in value:\n",
        "            return int(float(value.replace('K', '')) * 1000)\n",
        "        try:\n",
        "            return int(value)\n",
        "        except ValueError:\n",
        "            return np.nan\n",
        "    elif pd.isna(value):\n",
        "        return np.nan\n",
        "    return value\n",
        "\n",
        "# Apply the conversion to all K-suffixed columns\n",
        "k_cols = ['Times Listed', 'Number of Reviews', 'Plays', 'Playing', 'Backlogs', 'Wishlist']\n",
        "for col in k_cols:\n",
        "    df_games[col] = df_games[col].apply(convert_k_suffix).astype('Int64')"
      ],
      "metadata": {
        "id": "2o_iW7jK6Sx2"
      },
      "execution_count": null,
      "outputs": []
    },
    {
      "cell_type": "code",
      "source": [
        "# 5. Handle remaining missing values\n",
        "# Fill missing 'Rating' with median\n",
        "median_rating = df_games['Rating'].median()\n",
        "df_games['Rating'].fillna(median_rating, inplace=True)\n",
        "\n",
        "# Fill missing 'Summary'\n",
        "df_games['Summary'].fillna('No Summary', inplace=True)\n",
        "\n",
        "# Fill remaining missing 'Release Date' (the NaT values from step 2) with the median date\n",
        "df_games['Release Date'].fillna(df_games['Release Date'].median(), inplace=True)\n",
        "\n",
        "# Fill remaining missing 'Team' with placeholder\n",
        "df_games['Team'].fillna('Unknown Team', inplace=True)"
      ],
      "metadata": {
        "id": "r-5dyWQ27GpM"
      },
      "execution_count": null,
      "outputs": []
    },
    {
      "cell_type": "code",
      "source": [
        "# Save the wrangled games data\n",
        "df_games.to_csv('games_clean.csv', index=False)"
      ],
      "metadata": {
        "id": "P6hzZPIC7ZCC"
      },
      "execution_count": null,
      "outputs": []
    },
    {
      "cell_type": "markdown",
      "source": [
        "### What all manipulations have you done and insights you found?"
      ],
      "metadata": {
        "id": "MSa1f5Uengrz"
      }
    },
    {
      "cell_type": "markdown",
      "source": [
        "#### **Key Manipulations:**\n",
        "\n",
        "* **Handled Missing Values in `vgsales.csv`:**\n",
        "\n",
        "  * Filled missing `Year` values with the median year and converted the column to `Int64` type to allow integers with NaN support.\n",
        "  * Replaced missing `Publisher` entries with `\"Unknown\"`.\n",
        "\n",
        "* **Cleaned `games.csv`:**\n",
        "\n",
        "  * Dropped the redundant `Unnamed: 0` index column.\n",
        "  * Converted `Release Date` into proper datetime format, coercing unparseable strings into `NaT`.\n",
        "  * Parsed stringified lists (`Team`, `Genres`, `Reviews`) into actual Python lists using `ast.literal_eval`.\n",
        "  * Created and applied a function to convert \"K\"-suffixed values (e.g., `\"3.9K\"`) into numeric integers across columns (`Times Listed`, `Number of Reviews`, `Plays`, `Playing`, `Backlogs`, `Wishlist`).\n",
        "  * Converted these numeric columns into `Int64` to maintain integer representation with NaN support.\n",
        "  * Filled missing values:\n",
        "\n",
        "    * `Rating` with the median rating.\n",
        "    * `Summary` with `\"No Summary\"`.\n",
        "    * `Release Date` NaT entries with the median release date.\n",
        "    * `Team` with `\"Unknown Team\"`.\n",
        "\n",
        "* **Saved Cleaned Data:**\n",
        "  Exported cleaned versions of both datasets (`vgsales_wrangled.csv` and `games_wrangled_final.csv`) for reproducibility and further analysis.\n",
        "\n",
        "\n",
        "---\n",
        "\n",
        "\n",
        "#### **Insights Gained:**\n",
        "\n",
        "* Handling missing values with domain-appropriate replacements (median for numeric, placeholders for categorical/text) ensures that analyses remain consistent and no rows are unnecessarily dropped.\n",
        "* Converting release dates into proper datetime format enables temporal trend analysis, such as release frequency by year, seasonal patterns, or correlation with ratings/reviews.\n",
        "* Transforming stringified lists into actual Python lists allows easier querying, filtering, and analysis of genres, teams, and review content.\n",
        "* Standardizing numeric fields (like \"K\"-suffixed values) improves accuracy in aggregation, comparison, and statistical analysis.\n",
        "* Saving wrangled datasets provides a reliable baseline for downstream analytics such as sales trends, publisher performance, or relationships between ratings, reviews, and player engagement.\n"
      ],
      "metadata": {
        "id": "xtr1jvwazHVE"
      }
    }
  ]
}